{
 "cells": [
  {
   "cell_type": "code",
   "execution_count": null,
   "metadata": {},
   "outputs": [],
   "source": [
    "print (\"Hello world\");"
   ]
  },
  {
   "cell_type": "code",
   "execution_count": null,
   "metadata": {},
   "outputs": [],
   "source": [
    "username = \"Muchiri\"\n",
    "surname = \"Kinyua\"\n",
    "age = 21\n",
    "height = 1.7\n",
    "weight = 60.70\n",
    "print (username)\n",
    "print (surname)\n",
    "print (age)\n",
    "print (height)\n",
    "print (weight);"
   ]
  },
  {
   "cell_type": "code",
   "execution_count": null,
   "metadata": {},
   "outputs": [],
   "source": [
    "print (\"I am {0} {1}, {2} years old, {3} kgs, and {4} metres tall\".format(username, surname,age,weight,height))"
   ]
  },
  {
   "cell_type": "code",
   "execution_count": null,
   "metadata": {},
   "outputs": [],
   "source": [
    "print (\"I am \" + username + \" \" + surname + \" \" + height  + \" metres tall\" + \" \" + weight + \" \" + \"kgs and\" + \" \"  + age + \" \" + \"years old\")"
   ]
  },
  {
   "cell_type": "code",
   "execution_count": null,
   "metadata": {},
   "outputs": [],
   "source": [
    "names = [\"Muchiri\",\"Kinyua\",\"Wanjau\"]\n",
    "print(names)"
   ]
  },
  {
   "cell_type": "code",
   "execution_count": null,
   "metadata": {},
   "outputs": [],
   "source": [
    "print (names[0:])"
   ]
  },
  {
   "cell_type": "code",
   "execution_count": null,
   "metadata": {},
   "outputs": [],
   "source": [
    "ages = [\"30\",\"40\",\"50\"]\n",
    "print (ages)"
   ]
  },
  {
   "cell_type": "code",
   "execution_count": null,
   "metadata": {},
   "outputs": [],
   "source": [
    "both = [\"Muchiri\", \"Kinyua\", 30, 40]\n",
    "print (both)\n",
    "print(both[0:3])"
   ]
  },
  {
   "cell_type": "code",
   "execution_count": null,
   "metadata": {},
   "outputs": [],
   "source": [
    "names = (\"Muchiri\", \"Kinyua\", \"Wanjau\", \"Dyllan\")\n",
    "print (names)"
   ]
  },
  {
   "cell_type": "code",
   "execution_count": null,
   "metadata": {},
   "outputs": [],
   "source": [
    "Tvs = {\"Smart\": \"Hisense\",\n",
    "      \"xccct\": \"Lg\",\n",
    "      \"kvhv\": \"Samsung\"}\n",
    "print(Tvs)"
   ]
  },
  {
   "cell_type": "code",
   "execution_count": null,
   "metadata": {},
   "outputs": [],
   "source": [
    "print(Tvs[\"Smart\"])"
   ]
  },
  {
   "cell_type": "code",
   "execution_count": null,
   "metadata": {},
   "outputs": [],
   "source": [
    "print(\"Hello there\", \"I am doing great\", \"What about you?\" end= \" %\")"
   ]
  },
  {
   "cell_type": "code",
   "execution_count": null,
   "metadata": {},
   "outputs": [],
   "source": [
    "print(\"I am well\", "
   ]
  },
  {
   "cell_type": "code",
   "execution_count": null,
   "metadata": {},
   "outputs": [],
   "source": [
    "a = 1\n",
    "b = 2\n",
    "print(\"a is {} \\n b is {}\".format(a, b))\n",
    "print(\"a = {0} \\n b = {1}\".format(a, b))"
   ]
  },
  {
   "cell_type": "code",
   "execution_count": null,
   "metadata": {},
   "outputs": [],
   "source": [
    "a = \"Kamau\"\n",
    "b = \"Chege\"\n",
    "print(\"a is {} \\n b is {}\".format(a, b))\n",
    "print(\"a = {0} \\n b = {1}\".format(a, b))"
   ]
  },
  {
   "cell_type": "code",
   "execution_count": null,
   "metadata": {},
   "outputs": [],
   "source": [
    "print(\"Name\", \"Is\", \"Daniel Ndambuki\", sep=\"**\")"
   ]
  },
  {
   "cell_type": "code",
   "execution_count": null,
   "metadata": {},
   "outputs": [],
   "source": [
    "Num = 23456.909090\n",
    "a = 560.50455\n",
    "print(\"%.3f\"%(Num))"
   ]
  },
  {
   "cell_type": "code",
   "execution_count": null,
   "metadata": {},
   "outputs": [],
   "source": [
    "a = [12,23,32,34,45]\n",
    "print (a)"
   ]
  },
  {
   "cell_type": "code",
   "execution_count": null,
   "metadata": {},
   "outputs": [],
   "source": [
    "totalmoney = 1000\n",
    "quantity = 3\n",
    "price = 450\n",
    "print(\"I have\" + \" \" + str(totalmoney) + \" \" + \"shillings so I can buy\" + \" \" + str(quantity) + \" \" + \"footballs for\" + \" \" + str(price) + \" \" + \"Shillings\")"
   ]
  },
  {
   "cell_type": "code",
   "execution_count": null,
   "metadata": {},
   "outputs": [],
   "source": [
    "#I have 1000 Shillings so I can buy 3 footballs for 450.00 Shillings.\n",
    "totalmoney = 1000\n",
    "quantity = 3\n",
    "price = 450\n",
    "#print (\"totalmoney is {} quantity is {} price is {}\".format(totalmoney, quantity, price))\n",
    "print (\"I have\" + \" \" + \"totalmoney is {} quantity is {} price is {}\".format(totalmoney, quantity, price))"
   ]
  },
  {
   "cell_type": "code",
   "execution_count": null,
   "metadata": {},
   "outputs": [],
   "source": [
    "s = 'Year is '\n",
    "y = 2018\n",
    "print(\"{}{}\".format(s, y))"
   ]
  },
  {
   "cell_type": "code",
   "execution_count": null,
   "metadata": {},
   "outputs": [],
   "source": [
    "a = \"I have \"\n",
    "totalmoney = 1000\n",
    "b = \" shillings so I can buy \"\n",
    "quantity = 3\n",
    "c = \" footballs for \"\n",
    "price = 450\n",
    "d = \" shillings \"\n",
    "print (\"{}{}{}{}{}{}{}\".format(a, totalmoney, b, quantity, c, price, d))"
   ]
  },
  {
   "cell_type": "code",
   "execution_count": null,
   "metadata": {},
   "outputs": [],
   "source": [
    "print('Hello, world!')\n",
    "Hello, world!\n",
    "print(\"Hello world!\")\n",
    "Hello world!\n",
    "print(Hello world!)\n",
    "  File \"<ipython-input-3-01a3c6a17cb8>\", line 1\n",
    "    print(Hello world!)\n",
    "                    ^\n",
    "SyntaxError: invalid syntax\n",
    "\n",
    "\n",
    "print \"Hello world!\"\n",
    "  File \"<ipython-input-4-7c6dca5e5a14>\", line 1\n",
    "    print \"Hello world!\"\n",
    "                       ^\n",
    "SyntaxError: Missing parentheses in call to 'print'. Did you mean print(\"Hello world!\")?\n",
    "\n",
    "\n",
    "print print(\"Hello world!\")\n",
    "  File \"<ipython-input-5-ffcbcc42bc75>\", line 1\n",
    "    print print(\"Hello world!\")\n",
    "              ^\n",
    "SyntaxError: invalid syntax\n",
    "\n",
    "\n",
    "print(\"Hello world!\")\n",
    "print(\"Uka!\")\n",
    "Hello world!\n",
    "Uka!\n",
    "print(\"Hello world!\")\n",
    "print()\n",
    "print(\"Uka!\")\n",
    "Hello world!\n",
    "\n",
    "Uka!\n",
    "print(\"Hello \\nworld!\")\n",
    "print(\"Hello world!\")\n",
    "Hello \n",
    "world!\n",
    "Hello world!"
   ]
  },
  {
   "cell_type": "code",
   "execution_count": null,
   "metadata": {},
   "outputs": [],
   "source": [
    "print(\"My name is\", \"Python\", end=\" \")\n",
    "print(\"Monty python\")\n",
    "print(\"My name is\", \"Python\", end=\" \")\n",
    "print(\"Monty python\")\n",
    "My name is Python Monty python\n",
    "print(\"My name is\", \"Python\", end=\"#\", sep=\"**\")\n",
    "print(\"Monty python\")\n",
    "My name is**Python#Monty python\n",
    "print(\"2\")\n",
    "2\n",
    "print(0o123)\n",
    "83\n",
    "print(\"2\")\n",
    "print(2)\n",
    "2\n",
    "2"
   ]
  },
  {
   "cell_type": "code",
   "execution_count": null,
   "metadata": {},
   "outputs": [],
   "source": [
    "import string\n",
    "import random\n",
    "print(\"Hello,please input your password\");\n",
    "num = string.digits\n",
    "lower = string.ascii_lowercase\n",
    "upper = string.ascii_uppercase\n",
    "symbols = string.punctuation\n",
    "all = num + lower + upper + symbols\n",
    "length=int(input(\"Enter your password: \"))\n",
    "temp = random.sample(all, length)\n",
    "password = \" \".join(temp)\n",
    "print(password)\n",
    "\n",
    "    \n",
    "        \n",
    "    "
   ]
  },
  {
   "cell_type": "code",
   "execution_count": null,
   "metadata": {},
   "outputs": [],
   "source": [
    "import string\n",
    "import random\n",
    "print(\"Hello,please input your password\");\n",
    "length=int(input(\"Enter your password: \"))\n",
    "num = digits\n",
    "lower = string.ascii_lowercase\n",
    "upper = string.ascii_uppercase\n",
    "all = num + lower + upper\n",
    "temp = random.sample(all, length)\n",
    "password = \" \".join(temp)\n",
    "print (password)"
   ]
  },
  {
   "cell_type": "code",
   "execution_count": null,
   "metadata": {},
   "outputs": [],
   "source": [
    "print(4)"
   ]
  },
  {
   "cell_type": "code",
   "execution_count": null,
   "metadata": {},
   "outputs": [],
   "source": [
    "print(\"{0:b}\".format(70))"
   ]
  },
  {
   "cell_type": "code",
   "execution_count": null,
   "metadata": {},
   "outputs": [],
   "source": [
    "print(3E8)"
   ]
  },
  {
   "cell_type": "code",
   "execution_count": null,
   "metadata": {},
   "outputs": [],
   "source": [
    "print(7788.94E-10)"
   ]
  },
  {
   "cell_type": "code",
   "execution_count": null,
   "metadata": {},
   "outputs": [],
   "source": [
    "import string\n",
    "import random\n",
    "print(\"Enter your password: \")\n",
    "length = int(input(\"Enter the length of your password \"))\n",
    "num = string.digits\n",
    "lower = string.ascii_lowercase\n",
    "upper = srting.ascii_uppercase\n",
    "all = num + lower + upper\n",
    "temp = random.sample(all, length)\n",
    "password = \" \".join(temp)\n",
    "print(password)"
   ]
  },
  {
   "cell_type": "code",
   "execution_count": null,
   "metadata": {},
   "outputs": [],
   "source": [
    "print(\"I am com'ing\")"
   ]
  },
  {
   "cell_type": "code",
   "execution_count": null,
   "metadata": {},
   "outputs": [],
   "source": [
    "print(True > False)"
   ]
  },
  {
   "cell_type": "code",
   "execution_count": null,
   "metadata": {},
   "outputs": [],
   "source": [
    "print(True < False)"
   ]
  },
  {
   "cell_type": "code",
   "execution_count": null,
   "metadata": {},
   "outputs": [],
   "source": [
    "print(\"\"\"coming\"\"\")"
   ]
  },
  {
   "cell_type": "code",
   "execution_count": null,
   "metadata": {},
   "outputs": [],
   "source": [
    "print(\"{0:b}\".format(37))"
   ]
  },
  {
   "cell_type": "code",
   "execution_count": null,
   "metadata": {},
   "outputs": [],
   "source": [
    "print(2+2)"
   ]
  },
  {
   "cell_type": "code",
   "execution_count": null,
   "metadata": {},
   "outputs": [],
   "source": [
    "print(\"{0:b}\".format(20 + 37))"
   ]
  },
  {
   "cell_type": "code",
   "execution_count": null,
   "metadata": {},
   "outputs": [],
   "source": [
    "print(3*3)"
   ]
  },
  {
   "cell_type": "code",
   "execution_count": null,
   "metadata": {},
   "outputs": [],
   "source": [
    "print(7%)"
   ]
  },
  {
   "cell_type": "code",
   "execution_count": null,
   "metadata": {},
   "outputs": [],
   "source": [
    "print(9.)"
   ]
  },
  {
   "cell_type": "code",
   "execution_count": null,
   "metadata": {},
   "outputs": [],
   "source": [
    "print(2 ** 3)\n",
    "print(2. ** 3)\n",
    "print(2 ** 3.)\n",
    "print(2. ** 3.)"
   ]
  },
  {
   "cell_type": "code",
   "execution_count": null,
   "metadata": {},
   "outputs": [],
   "source": [
    "print(8 / 3)"
   ]
  },
  {
   "cell_type": "code",
   "execution_count": null,
   "metadata": {},
   "outputs": [],
   "source": [
    "print(8 // 3)"
   ]
  },
  {
   "cell_type": "code",
   "execution_count": null,
   "metadata": {},
   "outputs": [],
   "source": [
    "print(14 % 4)"
   ]
  },
  {
   "cell_type": "code",
   "execution_count": null,
   "metadata": {},
   "outputs": [],
   "source": [
    "print(6/4)"
   ]
  },
  {
   "cell_type": "code",
   "execution_count": null,
   "metadata": {},
   "outputs": [],
   "source": [
    "print(6//4)"
   ]
  },
  {
   "cell_type": "code",
   "execution_count": null,
   "metadata": {},
   "outputs": [],
   "source": [
    "print(20/4.5)"
   ]
  },
  {
   "cell_type": "code",
   "execution_count": null,
   "metadata": {},
   "outputs": [],
   "source": [
    "print(6//4)"
   ]
  },
  {
   "cell_type": "code",
   "execution_count": null,
   "metadata": {},
   "outputs": [],
   "source": [
    "print(12%4.5)"
   ]
  },
  {
   "cell_type": "code",
   "execution_count": null,
   "metadata": {},
   "outputs": [],
   "source": [
    "print(9 % 6)"
   ]
  },
  {
   "cell_type": "code",
   "execution_count": null,
   "metadata": {},
   "outputs": [],
   "source": [
    "print (2 ** 2 ** 3)"
   ]
  },
  {
   "cell_type": "code",
   "execution_count": null,
   "metadata": {},
   "outputs": [],
   "source": [
    "print(6 % 2)"
   ]
  },
  {
   "cell_type": "code",
   "execution_count": null,
   "metadata": {},
   "outputs": [],
   "source": [
    "print(2 + 2*3)"
   ]
  },
  {
   "cell_type": "code",
   "execution_count": null,
   "metadata": {},
   "outputs": [],
   "source": [
    "print(\"Exchange rate\")"
   ]
  },
  {
   "cell_type": "code",
   "execution_count": null,
   "metadata": {},
   "outputs": [],
   "source": [
    "x=1\n",
    "y=2\n",
    "z=x\n",
    "x=y\n",
    "y=z\n",
    "print(x, y)"
   ]
  },
  {
   "cell_type": "code",
   "execution_count": null,
   "metadata": {},
   "outputs": [],
   "source": [
    "x = 1/2+3//3+4**2\n",
    "print(x)"
   ]
  },
  {
   "cell_type": "code",
   "execution_count": null,
   "metadata": {},
   "outputs": [],
   "source": [
    "print(1/1)"
   ]
  },
  {
   "cell_type": "code",
   "execution_count": null,
   "metadata": {},
   "outputs": [],
   "source": [
    "print(4//2)"
   ]
  },
  {
   "cell_type": "code",
   "execution_count": null,
   "metadata": {},
   "outputs": [],
   "source": [
    "print(2+3*5)"
   ]
  },
  {
   "cell_type": "code",
   "execution_count": null,
   "metadata": {},
   "outputs": [],
   "source": [
    "print(2**3)"
   ]
  },
  {
   "cell_type": "code",
   "execution_count": null,
   "metadata": {},
   "outputs": [],
   "source": [
    "print(8/3)"
   ]
  },
  {
   "cell_type": "code",
   "execution_count": null,
   "metadata": {},
   "outputs": [],
   "source": [
    "print(1//1*2)"
   ]
  },
  {
   "cell_type": "code",
   "execution_count": null,
   "metadata": {},
   "outputs": [],
   "source": [
    "print(1//2)"
   ]
  },
  {
   "cell_type": "code",
   "execution_count": null,
   "metadata": {},
   "outputs": [],
   "source": [
    "print(0*3)"
   ]
  },
  {
   "cell_type": "code",
   "execution_count": null,
   "metadata": {},
   "outputs": [],
   "source": [
    "z=y=x=1\n",
    "print(x, y, z, sep='*')"
   ]
  },
  {
   "cell_type": "code",
   "execution_count": null,
   "metadata": {},
   "outputs": [],
   "source": [
    "x = 11\n",
    "y = 4\n",
    "x = x % y\n",
    "x = x % y\n",
    "y = y % x\n",
    "print (y)"
   ]
  },
  {
   "cell_type": "code",
   "execution_count": null,
   "metadata": {},
   "outputs": [],
   "source": [
    "b = 2\n",
    "h = 4\n",
    "area = 1/2 * b * h\n",
    "print(\"area of triangle {0} \\n\".format(area))\n"
   ]
  },
  {
   "cell_type": "code",
   "execution_count": null,
   "metadata": {},
   "outputs": [],
   "source": [
    "a = 1\n",
    "print(a)"
   ]
  },
  {
   "cell_type": "code",
   "execution_count": null,
   "metadata": {},
   "outputs": [],
   "source": [
    "var = 1\n",
    "#print(var)\n",
    "var = var + 1\n",
    "print(var)"
   ]
  },
  {
   "cell_type": "code",
   "execution_count": null,
   "metadata": {},
   "outputs": [],
   "source": [
    "a = 3.0\n",
    "b = 4.0\n",
    "c = (a ** 2 + b ** 2) ** 0.5\n",
    "print(c)"
   ]
  },
  {
   "cell_type": "code",
   "execution_count": null,
   "metadata": {},
   "outputs": [],
   "source": [
    "a = 3.0\n",
    "b = 4.0\n",
    "c = (a ** 2 + b ** 2) ** 0.5\n",
    "print(\"c =\", c)"
   ]
  },
  {
   "cell_type": "code",
   "execution_count": null,
   "metadata": {},
   "outputs": [],
   "source": [
    "a = 1\n",
    "a = a + 1\n",
    "print(a)"
   ]
  },
  {
   "cell_type": "code",
   "execution_count": null,
   "metadata": {},
   "outputs": [],
   "source": [
    "kilometres = 7\n",
    "miles = 15\n",
    "print(miles, \"miles is\", round(miles_to_kilometres, 2), \"kilometres\")"
   ]
  },
  {
   "cell_type": "code",
   "execution_count": null,
   "metadata": {},
   "outputs": [],
   "source": [
    "a = 1\n",
    "a = 2\n",
    "print(a)"
   ]
  },
  {
   "cell_type": "code",
   "execution_count": null,
   "metadata": {},
   "outputs": [],
   "source": [
    "anything = input(\"tell me anything\")\n",
    "print(\"Hmm..\", anything, \"Really?\")"
   ]
  },
  {
   "cell_type": "code",
   "execution_count": null,
   "metadata": {},
   "outputs": [],
   "source": [
    "area  = input(\"enter base: \")\n",
    "print (area)"
   ]
  },
  {
   "cell_type": "code",
   "execution_count": null,
   "metadata": {},
   "outputs": [],
   "source": [
    "base = int(input(\"Enter the base: \"))\n",
    "height = int(input(\"Enter the height: \"))\n",
    "area = base*height/2\n",
    "print(area)"
   ]
  },
  {
   "cell_type": "code",
   "execution_count": null,
   "metadata": {},
   "outputs": [],
   "source": [
    "b = int(input(\"Input the base : \"))\n",
    "h = int(input(\"Input the height : \"))\n",
    "\n",
    "area = b*h/2\n",
    "\n",
    "print(\"area = \", area)"
   ]
  },
  {
   "cell_type": "code",
   "execution_count": null,
   "metadata": {},
   "outputs": [],
   "source": [
    "base = int(input(\"Enter the base: \"))\n",
    "height = int(input(\"Enter the height: \"))\n",
    "area = 1/2*base*height\n",
    "print(area)"
   ]
  },
  {
   "cell_type": "code",
   "execution_count": null,
   "metadata": {},
   "outputs": [],
   "source": [
    "length = int(input(\"Enter the length: \"))\n",
    "width = int(input(\"Enter the height: \"))\n",
    "area = length*width\n",
    "print(area)"
   ]
  },
  {
   "cell_type": "code",
   "execution_count": null,
   "metadata": {},
   "outputs": [],
   "source": [
    "base = 2\n",
    "height = 4\n",
    "area = base*height\n",
    "print(area)"
   ]
  },
  {
   "cell_type": "code",
   "execution_count": null,
   "metadata": {},
   "outputs": [],
   "source": [
    "print(1//2*3)"
   ]
  },
  {
   "cell_type": "code",
   "execution_count": null,
   "metadata": {},
   "outputs": [],
   "source": [
    "x = input ()\n",
    "y = input ()\n",
    "print(x+y)"
   ]
  },
  {
   "cell_type": "code",
   "execution_count": null,
   "metadata": {},
   "outputs": [],
   "source": [
    "x = 1\n",
    "y = 2\n",
    "z = x\n",
    "x = y\n",
    "y = z\n",
    "print(x, y)"
   ]
  },
  {
   "cell_type": "code",
   "execution_count": null,
   "metadata": {},
   "outputs": [],
   "source": [
    "print(9 % 3)"
   ]
  },
  {
   "cell_type": "code",
   "execution_count": null,
   "metadata": {},
   "outputs": [],
   "source": [
    "print(3/2)"
   ]
  },
  {
   "cell_type": "code",
   "execution_count": null,
   "metadata": {},
   "outputs": [],
   "source": [
    "y = 2 + 3 * 5\n",
    "print(y)"
   ]
  },
  {
   "cell_type": "code",
   "execution_count": null,
   "metadata": {},
   "outputs": [],
   "source": [
    "x = int(input())\n",
    "y = int(input())\n",
    "x = x / y\n",
    "y = y / x\n",
    "print(y)"
   ]
  },
  {
   "cell_type": "code",
   "execution_count": null,
   "metadata": {},
   "outputs": [],
   "source": [
    "x = int(input())\n",
    "y = int(input())\n",
    "x = x//y\n",
    "y = y//x\n",
    "print(y)"
   ]
  },
  {
   "cell_type": "code",
   "execution_count": null,
   "metadata": {},
   "outputs": [],
   "source": [
    "x = int(input())\n",
    "y = int(input())\n",
    "print(x*y)"
   ]
  },
  {
   "cell_type": "code",
   "execution_count": null,
   "metadata": {},
   "outputs": [],
   "source": [
    "x = 1/2+3//3+4**2\n",
    "print(x)"
   ]
  },
  {
   "cell_type": "code",
   "execution_count": null,
   "metadata": {},
   "outputs": [],
   "source": [
    "z = y = x = 1\n",
    "print(x, y, z, sep='*')"
   ]
  },
  {
   "cell_type": "code",
   "execution_count": null,
   "metadata": {},
   "outputs": [],
   "source": [
    "x = int(input())\n",
    "y = int(input())\n",
    "x = x % y\n",
    "x = x % y\n",
    "y = y % x\n",
    "print(y)"
   ]
  },
  {
   "cell_type": "code",
   "execution_count": null,
   "metadata": {},
   "outputs": [],
   "source": [
    "print(2**3)"
   ]
  },
  {
   "cell_type": "code",
   "execution_count": null,
   "metadata": {},
   "outputs": [],
   "source": [
    "print(1/1)"
   ]
  },
  {
   "cell_type": "code",
   "execution_count": null,
   "metadata": {},
   "outputs": [],
   "source": [
    "y = 2 + 3 * 5.\n",
    "print(y)"
   ]
  },
  {
   "cell_type": "code",
   "execution_count": null,
   "metadata": {},
   "outputs": [],
   "source": [
    "x = input()\n",
    "y = int(input())\n",
    "print(x * y)"
   ]
  },
  {
   "cell_type": "code",
   "execution_count": null,
   "metadata": {},
   "outputs": [],
   "source": [
    "print(1 == 2)"
   ]
  },
  {
   "cell_type": "code",
   "execution_count": null,
   "metadata": {},
   "outputs": [],
   "source": [
    "print(1 == 1)"
   ]
  },
  {
   "cell_type": "code",
   "execution_count": null,
   "metadata": {},
   "outputs": [],
   "source": [
    "print(2 > 1)"
   ]
  },
  {
   "cell_type": "code",
   "execution_count": null,
   "metadata": {},
   "outputs": [],
   "source": [
    "print(2 == 2.)"
   ]
  },
  {
   "cell_type": "code",
   "execution_count": null,
   "metadata": {},
   "outputs": [],
   "source": [
    "print(2 == 2.0)"
   ]
  },
  {
   "cell_type": "code",
   "execution_count": null,
   "metadata": {},
   "outputs": [],
   "source": [
    "black_sheep = 10\n",
    "white_sheep = 5\n",
    "print(black_sheep > white_sheep)"
   ]
  },
  {
   "cell_type": "code",
   "execution_count": null,
   "metadata": {},
   "outputs": [],
   "source": [
    "base = 10\n",
    "height = 6\n",
    "area = 1/2*base*height\n",
    "print(area)"
   ]
  },
  {
   "cell_type": "code",
   "execution_count": null,
   "metadata": {},
   "outputs": [],
   "source": [
    "base = int(input(\"Enter the base: \"))\n",
    "height = int(input(\"Enter the height: \"))\n",
    "area = 1/2*base*height\n",
    "print(area)"
   ]
  },
  {
   "cell_type": "code",
   "execution_count": null,
   "metadata": {},
   "outputs": [],
   "source": [
    "man_u = 3\n",
    "chelsea = 0\n",
    "if (man_u < chelsea):\n",
    "    print(\"Coach will be sacked\")\n",
    "else:\n",
    "        print(\"Coach will not be sacked\")"
   ]
  },
  {
   "cell_type": "code",
   "execution_count": null,
   "metadata": {},
   "outputs": [],
   "source": [
    "import string\n",
    "import random\n",
    "print (\"Enter your password: \")\n",
    "length = int(input(\"Enter the password\"))\n",
    "lower = string.ascii_lowercase\n",
    "upper = string.ascii_uppercase\n",
    "num = string.digits\n",
    "all = lower + upper + num\n",
    "temp = random.sample(all, length)\n",
    "password = \"\".join(temp)\n",
    "print(password)"
   ]
  },
  {
   "cell_type": "code",
   "execution_count": null,
   "metadata": {},
   "outputs": [],
   "source": []
  },
  {
   "cell_type": "code",
   "execution_count": null,
   "metadata": {},
   "outputs": [],
   "source": [
    "import random\n",
    "import string\n",
    "print(\"hello, welcome to password generator\")\n",
    "length = int(input(\"Enter the length of your password: \"))\n",
    "lower = string.ascii_lowercase\n",
    "upper = string.ascii_uppercase\n",
    "num = string.digits\n",
    "symbols = string.punctuation\n",
    "all = lower + upper + num + symbols\n",
    "temp = random.sample(all,length)\n",
    "password = \"\".join(temp)\n",
    "print(password)\n",
    "                   "
   ]
  },
  {
   "cell_type": "code",
   "execution_count": null,
   "metadata": {},
   "outputs": [],
   "source": [
    "computer_networks = 17\n",
    "computer_technology = 30\n",
    "if(computer_networks > computer_technology):\n",
    "    print(\"true\")\n",
    "else:\n",
    "        print(\"false\")"
   ]
  },
  {
   "cell_type": "code",
   "execution_count": null,
   "metadata": {},
   "outputs": [],
   "source": [
    "import random\n",
    "length = int(input(\"Enter the length: \"))\n",
    "print(\"Enter the number: \")\n",
    "num = string.digits\n",
    "temp = random.sample(length)\n",
    "any = \"\".join(temp)\n",
    "print(any)"
   ]
  },
  {
   "cell_type": "code",
   "execution_count": null,
   "metadata": {},
   "outputs": [],
   "source": [
    "for x in \"banana\":\n",
    "    print(x)"
   ]
  },
  {
   "cell_type": "code",
   "execution_count": null,
   "metadata": {},
   "outputs": [],
   "source": [
    "phones = [\"samsung, nokia, iphone\"]\n",
    "for x in phones:\n",
    "    print(x)"
   ]
  },
  {
   "cell_type": "code",
   "execution_count": null,
   "metadata": {},
   "outputs": [],
   "source": [
    "#for x in range(7):\n",
    "    print(\"kipkirui\")"
   ]
  },
  {
   "cell_type": "code",
   "execution_count": null,
   "metadata": {},
   "outputs": [],
   "source": [
    "import datetime\n",
    "date_object = datetime.date.today()\n",
    "print(date_object)"
   ]
  },
  {
   "cell_type": "code",
   "execution_count": null,
   "metadata": {},
   "outputs": [],
   "source": [
    "import datetime\n",
    "datetime_object = datetime.datetime.now()\n",
    "print(datetime_object)"
   ]
  },
  {
   "cell_type": "code",
   "execution_count": null,
   "metadata": {},
   "outputs": [],
   "source": [
    "clubs = [\"afc_leopards\", \"sofapaka\", \"kcb\"]\n",
    "for x in clubs:\n",
    "    print(x)"
   ]
  },
  {
   "cell_type": "code",
   "execution_count": null,
   "metadata": {},
   "outputs": [],
   "source": [
    "current_president = [\"uhuru\", \"ramaphosa\", \"putin\", \"xi\", \"museveni\"]\n",
    "for x in range(len(current_president)):\n",
    "    print(\"current president is:\", current_president[x])"
   ]
  },
  {
   "cell_type": "code",
   "execution_count": null,
   "metadata": {},
   "outputs": [],
   "source": [
    "numbers = [1, 2, 3, 4, 5]\n",
    "sum = 0\n",
    "for x in numbers:\n",
    "    sum = sum + x\n",
    "print(\"The sum is:\", sum)"
   ]
  },
  {
   "cell_type": "code",
   "execution_count": null,
   "metadata": {},
   "outputs": [],
   "source": [
    "i = 1\n",
    "while i < 6:\n",
    "    print(i)\n",
    "    i += 1"
   ]
  },
  {
   "cell_type": "code",
   "execution_count": null,
   "metadata": {},
   "outputs": [],
   "source": [
    "i = 1\n",
    "while i < 6:\n",
    "  print(i)\n",
    "  i += 1"
   ]
  },
  {
   "cell_type": "code",
   "execution_count": null,
   "metadata": {},
   "outputs": [],
   "source": [
    "name = input(\"Enter your name: \")\n",
    "print(\"Hello \" + name)"
   ]
  },
  {
   "cell_type": "code",
   "execution_count": null,
   "metadata": {},
   "outputs": [],
   "source": [
    "import random\n",
    "import maths\n"
   ]
  },
  {
   "cell_type": "code",
   "execution_count": null,
   "metadata": {},
   "outputs": [],
   "source": [
    "import random\n",
    "import math\n",
    "# Taking Inputs\n",
    "lower = int(input(\"Enter Lower bound:- \"))\n",
    "\n",
    "# Taking Inputs\n",
    "upper = int(input(\"Enter Upper bound:- \"))\n",
    "\n",
    "# generating random number between\n",
    "# the lower and upper\n",
    "x = random.randint(lower, upper)\n",
    "print(\"\\n\\tYou've only \",\n",
    "round(math.log(upper - lower + 1, 2)),\n",
    "\" chances to guess the integer!\\n\")\n",
    "\n",
    "# Initializing the number of guesses.\n",
    "count = 0\n",
    "\n",
    "# for calculation of minimum number of\n",
    "# guesses depends upon range\n",
    "while count < math.log(upper - lower + 1, 2):\n",
    "count += 1\n",
    "\n",
    "# taking guessing number as input\n",
    "guess = int(input(\"Guess a number:- \"))\n",
    "\n",
    "# Condition testing\n",
    "if x == guess:\n",
    "print(\"Congratulations you did it in \",\n",
    "count, \" try\")\n",
    "# Once guessed, loop will break\n",
    "break\n",
    "elif x > guess:\n",
    "print(\"You guessed too small!\")\n",
    "elif x < guess:\n",
    "print(\"You Guessed too high!\")\n",
    "\n",
    "# If Guessing is more than required guesses,\n",
    "# shows this output.\n",
    "if count >= math.log(upper - lower + 1, 2):\n",
    "print(\"\\nThe number is %d\" % x)\n",
    "print(\"\\tBetter Luck Next time!\")\n",
    "\n",
    "# Better to use This source Code on pycharm!\n"
   ]
  },
  {
   "cell_type": "code",
   "execution_count": null,
   "metadata": {},
   "outputs": [],
   "source": [
    "raining = \"good\"\n",
    "sunshine = \"bad\"\n",
    "if(raining):\n",
    "    print(raining)\n",
    "else:\n",
    "    print(sunshine)"
   ]
  },
  {
   "cell_type": "code",
   "execution_count": null,
   "metadata": {},
   "outputs": [],
   "source": [
    "weather = \"raining\"\n",
    "if weather == \"rain\":\n",
    "    print(\"wear a raincoat\")\n",
    "else:\n",
    "    print(\"no raincoat needed\")"
   ]
  },
  {
   "cell_type": "code",
   "execution_count": null,
   "metadata": {},
   "outputs": [],
   "source": [
    "import random\n",
    "import string\n",
    "length = int(input(\"Enter your password: \"))\n",
    "lower = string.ascii_lowercase\n",
    "upper = string.ascii_uppercase\n",
    "num = string.digits\n",
    "symbols = string.punctuation\n",
    "all = lower + upper + num + symbols\n",
    "temp = random.sample(all, length)\n",
    "password = \"\".join(temp)\n",
    "print(password)"
   ]
  },
  {
   "cell_type": "code",
   "execution_count": null,
   "metadata": {},
   "outputs": [],
   "source": [
    "import datetime\n",
    "datetime.object = datetime.datetime.now()\n",
    "print(datetime.object)"
   ]
  },
  {
   "cell_type": "code",
   "execution_count": null,
   "metadata": {},
   "outputs": [],
   "source": [
    "import random\n",
    "\n",
    "num = random.randint(1, 10)\n",
    "guess = None\n",
    "\n",
    "while guess != num:\n",
    "    guess = input(\"guess a number between 1 and 10: \")\n",
    "    guess = int(guess)\n",
    "\n",
    "    if guess == num:\n",
    "        print(\"congratulations! you won!\")\n",
    "        break\n",
    "    else:\n",
    "        print(\"nope, sorry. try again!\")"
   ]
  },
  {
   "cell_type": "code",
   "execution_count": null,
   "metadata": {},
   "outputs": [],
   "source": [
    "import random\n",
    "while True:\n",
    "    x = random.randint(1, 10)\n",
    "    guess = int(input(\"Enter any number between 1 to 10: \"))\n",
    "    if(guess == x):\n",
    "        print(\"congratulations!\")\n",
    "    else:\n",
    "        print(\"Try again, The correct answer was: %s\"% x)"
   ]
  },
  {
   "cell_type": "code",
   "execution_count": null,
   "metadata": {},
   "outputs": [],
   "source": [
    "base = int(input(\"Enter your base: \"))\n",
    "height = int(input(\"Enter your height: \"))\n",
    "area = 1/2*base*height\n",
    "print(area)"
   ]
  },
  {
   "cell_type": "code",
   "execution_count": null,
   "metadata": {},
   "outputs": [],
   "source": [
    "import string\n",
    "import random\n",
    "lower = string.ascii_lowercase\n",
    "upper = string.ascii_uppercase\n",
    "num = string.digits\n",
    "symbols = string.punctuation\n",
    "all = lower + upper + num + symbols\n",
    "length = str(\"Your contact is: \")\n",
    "name = str(input(\"Enter your name: \"))\n",
    "number = int(input(\"Enter your number: \"))\n",
    "email = str(input(\"Enter your email: \"))\n",
    "address = str(input(\"Enter your address: \"))\n",
    "temp = random.sample(all, length)\n",
    "contacts = \"\".join(temp)\n",
    "print(contacts)\n",
    "#print (\"The name is {0},the number is {1},the email is {2},the address is {3}\".format(name, number, email, address))\n",
    "#length = name + number + email + address\n"
   ]
  },
  {
   "cell_type": "code",
   "execution_count": null,
   "metadata": {},
   "outputs": [],
   "source": [
    "import random\n",
    "import string\n",
    "length = int(input(\"Enter your password: \"))\n",
    "lower = string.ascii_lowercase\n",
    "upper = string.ascii_uppercase\n",
    "num = string.digits\n",
    "symbols = string.punctuation\n",
    "all = lower + upper + num + symbols\n",
    "temp = random.sample(all, length)\n",
    "password = \"\".join(temp)\n",
    "print(password)"
   ]
  },
  {
   "cell_type": "code",
   "execution_count": null,
   "metadata": {},
   "outputs": [],
   "source": [
    "import random\n",
    "import string\n",
    "lower = string.ascii_lowercase\n",
    "upper = string.ascii_uppercase\n",
    "num = string.digits\n",
    "symbols = string.punctuation\n",
    "all = lower + upper + num + symbols\n",
    "length = input(\"Enter your contacts\")\n",
    "name = str(input(\"Enter your name: \"))\n",
    "phone_number = int(input(\"Enter your number: \"))\n",
    "email = str(input(\"Enter your email: \"))\n",
    "address = str(input(\"Enter your address: \"))\n",
    "temp = random.sample(all, length)\n",
    "contacts = \"\".join(temp)\n",
    "print(contacts)"
   ]
  },
  {
   "cell_type": "code",
   "execution_count": null,
   "metadata": {},
   "outputs": [],
   "source": [
    "import pandas\n",
    "import sqlite3\n",
    "conn = sqlite3.connect(\"./sqlite_tutorial/contributors_candidates.db\")\n",
    "name = str(input(\"Enter your name: \"))\n",
    "number = int(input(\"Enter your number: \"))\n",
    "email = str(input(\"Enter your email: \"))\n",
    "address = str(input(\"Enter your address: \"))\n",
    "print(\"Your contacts are \" + name + \" \" + str(number) + \" \" + email + \" \" + address)"
   ]
  },
  {
   "cell_type": "code",
   "execution_count": null,
   "metadata": {},
   "outputs": [],
   "source": [
    "a = int(input(\"Enter a number: \"))\n",
    "if (a % 2 == 0):\n",
    "    print(\"True\")\n",
    "else:\n",
    "    print(\"False\")"
   ]
  },
  {
   "cell_type": "code",
   "execution_count": null,
   "metadata": {},
   "outputs": [],
   "source": [
    "marks = int(input(\"Enter your marks: \"))\n",
    "if marks <= 100 and marks >= 70:\n",
    "    print(\"A\")\n",
    "elif marks <= 69 and marks >= 60:\n",
    "    print(\"B\")\n",
    "elif marks <= 59 and marks >= 50:\n",
    "    print(\"C\")\n",
    "elif marks <= 49 and marks >= 40:\n",
    "    print(\"D\")\n",
    "elif marks >= 0 and marks <= 39:\n",
    "    print(\"Fail\")\n",
    "else:\n",
    "    print(\"Invalid entry!\")"
   ]
  },
  {
   "cell_type": "code",
   "execution_count": null,
   "metadata": {},
   "outputs": [],
   "source": [
    "year = int(input(\"Enter your year of birth: \"))\n",
    "if year <= 2012 and year >= 1997:\n",
    "    print(\"Gen Z\")\n",
    "elif year <= 1996 and year >= 1981:\n",
    "    print(\"Millennials\")\n",
    "elif year <= 1980 and year >= 1965:\n",
    "    print(\"Boomers II\")\n",
    "elif year <= 1964 and year >= 1955:\n",
    "    print(\"Boomers\")\n",
    "elif year <= 1945 and year >= 1928:\n",
    "    print(\"Post war\")\n",
    "elif year <= 1927 and year >= 1922:\n",
    "    print(\"WWII\")\n",
    "else:\n",
    "    print(\"Invalid entry!\")"
   ]
  },
  {
   "cell_type": "code",
   "execution_count": null,
   "metadata": {},
   "outputs": [],
   "source": [
    "a = int(input(\"Enter the first number: \"))\n",
    "b = int(input(\"Enter the second number: \"))\n",
    "if a == b:\n",
    "    print(\"The two numbers are equal\")\n",
    "elif a < b:\n",
    "    print(str(a) + \" \" +\"is less than\" + \" \" + str(b))\n",
    "elif a < 0 and b > 0:\n",
    "    print(str(b) + \" \" + \"is greater than\" + \" \" +str(a))\n",
    "elif b < 0 and a > 0:\n",
    "    print(str(a) + \" \" + \"is greater than\" + \" \" +str(b))\n",
    "else:\n",
    "    print(str(b) + \" \" + \"is greater than\" + \" \" +str(a))"
   ]
  },
  {
   "cell_type": "code",
   "execution_count": null,
   "metadata": {},
   "outputs": [],
   "source": []
  },
  {
   "cell_type": "code",
   "execution_count": null,
   "metadata": {},
   "outputs": [],
   "source": [
    "a = int(input(\"Enter the first number: \"))\n",
    "b = int(input(\"Enter the second number: \"))\n",
    "if a == b:\n",
    "    print(\"The two numbers are equal\")\n",
    "elif a < b:\n",
    "    print(str(a) + \" \" +\"is less than\" + \" \" + str(b))\n",
    "elif a < 0 and b > 0:\n",
    "    print(str(b) + \" \" + \"is greater than\" + \" \" +str(a))\n",
    "elif b < 0 and a > 0:\n",
    "    print(str(a) + \" \" + \"is greater than\" + \" \" +str(b))\n",
    "else:\n",
    "    print(str(b) + \" \" + \"is greater than\" + \" \" +str(a))"
   ]
  },
  {
   "cell_type": "code",
   "execution_count": null,
   "metadata": {},
   "outputs": [],
   "source": [
    "a = int(input(\"Enter the first number: \"))\n",
    "b = int(input(\"Enter the second number: \"))\n",
    "c = int(input(\"Enter the third number: \"))\n",
    "if a == b == c:\n",
    "    print(\"All the three numbers are equal!\")\n",
    "elif a > b and a > c:\n",
    "    print(str(a) + \" \" + \"is greater than both\" + \" \" + str(b) + \" \" + \"and\" + \" \" + str(c))\n",
    "elif b > a and b > c:\n",
    "    print(str(b) + \" \" + \"is greater than both\" + \" \" + str(a) + \" \" + \"and\" + \" \" + str(c))\n",
    "elif c > a and c > b:\n",
    "    print(str(c) + \" \" + \"is greater than both\" + \" \" + str(a) + \" \" + \"and\" + \" \" + str(b))\n",
    "elif a > b and a == c:\n",
    "    print(str(a) + \" \" + \"is greater than\" + \" \" + str(b) + \" \" + \"but equal to\" + \" \" + str(c))\n",
    "elif b > a and b == c:\n",
    "    print(str(b) + \" \" + \"is greater than\" + \" \" + str(a) + \" \" + \"but equal to\" + \" \" + str(c))\n",
    "else:\n",
    "    print(str(c) + \" \" + \"is greater than\" + \" \" + str(b) + \" \" + \"but equal to\" + \" \" + str(a))"
   ]
  },
  {
   "cell_type": "code",
   "execution_count": null,
   "metadata": {},
   "outputs": [],
   "source": [
    "import sqlite3\n",
    "connection = sqlite3.connect(\"phonebook_db\")\n",
    "print(\"Opened database successfully\")\n",
    "cursor = connection.cursor()\n",
    "cursor.execute('''CREATE TABLE CONTACTS(\n",
    "   First_Name VARCHAR(255),\n",
    "   Last_Name VARCHAR(255),\n",
    "   Phone_number int,\n",
    "   Email VARCHAR(255),\n",
    "   Address VARCHAR(255))''')\n",
    "connection.commit()\n",
    "connection.close()\n",
    "print(\"Table created successfully!\")"
   ]
  },
  {
   "cell_type": "code",
   "execution_count": null,
   "metadata": {},
   "outputs": [],
   "source": [
    "import sqlite3\n",
    "connection = sqlite3.connect(\"phonebook_db\")\n",
    "print(\"Opened database successfully\")\n",
    "cursor = connection.cursor()\n",
    "cursor.execute('''INSERT INTO CONTACTS (First_Name, Last_Name, Phone_Number, Email, Address) values\n",
    "(\"Muchiri\", \"Kinyua\", 07123456789, \"Muchiri7@gmail.com\", \"PO_BOX_213_SAGANA\")''');\n",
    "cursor.execute('''INSERT INTO CONTACTS (First_Name, Last_Name, Phone_Number, Email, Address) values\n",
    "(\"Sarah\", \"Kinyua\", 07987654321, \"Sarah7@gmail.com\", \"PO_BOX_400_KARATINA\")''');\n",
    "cursor.execute('''INSERT INTO CONTACTS (First_Name, Last_Name, Phone_Number, Email, Address) values\n",
    "(\"Wanjiru\", \"Maregwa\", 0719283746, \"Wanjiru6@gmail.com\", \"PO_BOX_76_KERUGOYA\")''');\n",
    "cursor.execute('''INSERT INTO CONTACTS (First_Name, Last_Name, Phone_Number, Email, Address) values\n",
    "(\"Laurel\", \"Lance\", 0707070707, \"Laurel7@gmail.com\", \"PO_BOX_500_KAGUMO\")''');\n",
    "connection.commit()\n",
    "print(\"Table inserted successfully!\")"
   ]
  },
  {
   "cell_type": "code",
   "execution_count": null,
   "metadata": {},
   "outputs": [],
   "source": [
    "import sqlite3\n",
    "connection = sqlite3.connect(\"phonebook_db\")\n",
    "print(\"Opened database successfully\")\n",
    "cursor = connection.cursor()\n",
    "cursor.execute('''SELECT First_Name, Last_Name FROM CONTACTS''')\n",
    "connection.commit()\n",
    "print(\"Operation done successfully!\")"
   ]
  },
  {
   "cell_type": "code",
   "execution_count": null,
   "metadata": {},
   "outputs": [],
   "source": [
    "# UPDATE employees\n",
    "# SET lastname = 'Smith'\n",
    "# WHERE employeeid = 3;\n",
    "import sqlite3\n",
    "connection = sqlite3.connect(\"phonebook_db\")\n",
    "print(\"Opened database successfully\")\n",
    "cursor = connection.cursor()\n",
    "cursor.execute('''UPDATE CONTACTS set ADDRESS = \"PO_BOX_300_KARATINA\" where PHONE_NUMBER = 07123456789''')\n",
    "connection.commit()\n",
    "print(\"Total number of rows updated: \"), connection.total_changes"
   ]
  },
  {
   "cell_type": "code",
   "execution_count": null,
   "metadata": {},
   "outputs": [],
   "source": [
    "import sqlite3\n",
    "connection = sqlite3.connect(\"phonebook_db\")\n",
    "print(\"Opened database successfully\")\n",
    "cursor = connection.cursor()\n",
    "cursor.execute('''DELETE from CONTACTS where phone_number = 07987654321''')\n",
    "connection.commit()\n",
    "print(\"Total number of rows deleted: \"), connection.total_changes"
   ]
  },
  {
   "cell_type": "code",
   "execution_count": null,
   "metadata": {},
   "outputs": [],
   "source": [
    "# import sqlite3\n",
    "# connection = sqlite3.connect(\"list_db\")\n",
    "# print(\"Opened database successfully!\")\n",
    "# cursor = connection.cursor()\n",
    "# cursor.execute('''CREATE TABLE PEOPLE(\n",
    "# First_Name VARCHAR(255) = str(input(\"Enter your first name: \"))\n",
    "# LAST_NAME VARCHAR(255) = str(input(\"Enter your last name: \"))\n",
    "# PHONE_NUMBER int = input(\"Enter your phone number: \")\n",
    "# EMAIL VARCHAR(255) = str(input(\"Enter your email: \"))\n",
    "# ADDRESS VARCHAR(255) = str(input(\"Enter your address: \"))''')\n",
    "# connection.commit()\n",
    "# PEOPLE = First_Name + Last_Name + Phone_Number + Email + Address\n",
    "# print(\"Table created successfully!\")\n",
    "# print(PEOPLE)"
   ]
  },
  {
   "cell_type": "code",
   "execution_count": null,
   "metadata": {},
   "outputs": [],
   "source": [
    "import sqlite3\n",
    "connection = sqlite3.connect(\"list_db\")\n",
    "print(\"Opened database successfully!\")\n",
    "cursor = connection.cursor()\n",
    "cursor.execute('''CREATE TABLE PEOPLE(\n",
    "    First_Name VARCHAR(255),\n",
    "    Last_Name VARCHAR(255),\n",
    "    Phone_Number int,\n",
    "    Email VARCHAR(255),\n",
    "    Address VARCHAR(255))''')\n",
    "print(\"Table created successfully!\")\n",
    "First_Name = str(input(\"Enter your first name: \"))\n",
    "Last_Name = str(input(\"Enter your last name: \"))\n",
    "Phone_Number = int(input(\"Enter your phone number: \"))\n",
    "Email = str(input(\"Enter your email: \"))\n",
    "Address = str(input(\"Enter your address: \"))\n",
    "print(First_Name+ \" \" + Last_Name + \" \" + str(Phone_Number) + \" \" + Email + \" \" + Address)"
   ]
  },
  {
   "cell_type": "code",
   "execution_count": null,
   "metadata": {},
   "outputs": [],
   "source": [
    "sqlite> (SELECT * FROM PEOPLE)"
   ]
  },
  {
   "cell_type": "code",
   "execution_count": null,
   "metadata": {},
   "outputs": [],
   "source": [
    "import sqlite3\n",
    "connection = sqlite3.connect(\"phonebook_db\")\n",
    "print(\"Opened database successfully\")\n",
    "cursor = connection.cursor()\n",
    "cursor.execute('''SELECT * FROM PEOPLE''')\n",
    "connection.commit()\n",
    "print(\"*\")"
   ]
  },
  {
   "cell_type": "code",
   "execution_count": null,
   "metadata": {},
   "outputs": [],
   "source": [
    "import random\n",
    "import string\n",
    "x = string.ascii_letters\n",
    "guess = str(input(\"Enter any letter between a and z: \"))\n",
    "for x in guess:\n",
    "    if(guess == x):\n",
    "        print(\"Congratulations!\")\n",
    "    else:\n",
    "        print(\"Oops!Try again, The correct answer was: %s\"% x)"
   ]
  },
  {
   "cell_type": "code",
   "execution_count": null,
   "metadata": {},
   "outputs": [],
   "source": [
    "import random\n",
    "while True:\n",
    "    x = random.randint(1, 10)\n",
    "    guess = int(input(\"Enter any number between 1 to 10: \"))\n",
    "    if(guess == x):\n",
    "        print(\"congratulations!\")\n",
    "    else:\n",
    "        print(\"Try again, The correct answer was: %s\"% x)"
   ]
  },
  {
   "cell_type": "code",
   "execution_count": 13,
   "metadata": {},
   "outputs": [
    {
     "name": "stdout",
     "output_type": "stream",
     "text": [
      "Enter any number between 1 and 10: 4\n",
      "Try again! The correct answer was 4\n"
     ]
    }
   ],
   "source": [
    "import random\n",
    "x = random.randint(1, 10)\n",
    "guess = iter(input(\"Enter any number between 1 and 10: \"))\n",
    "for x in guess:\n",
    "    if (guess == x):\n",
    "        print(\"Congratulations!\")\n",
    "    else:\n",
    "        print(\"Try again! The correct answer was %s\"% x)"
   ]
  },
  {
   "cell_type": "code",
   "execution_count": 1,
   "metadata": {},
   "outputs": [
    {
     "name": "stdout",
     "output_type": "stream",
     "text": [
      "Enter number of elements:5\n",
      "Randomised list is:  [4, 13, 19, 19, 13]\n"
     ]
    }
   ],
   "source": [
    "import random\n",
    "a=[]\n",
    "n=int(input(\"Enter number of elements:\"))\n",
    "for j in range(n):\n",
    "    a.append(random.randint(1,20))\n",
    "print('Randomised list is: ',a)"
   ]
  },
  {
   "cell_type": "code",
   "execution_count": 20,
   "metadata": {},
   "outputs": [
    {
     "name": "stdout",
     "output_type": "stream",
     "text": [
      "Enter a year: 2014\n",
      "2014 is not a leap year!\n"
     ]
    }
   ],
   "source": [
    "year = int(input(\"Enter a year: \"))\n",
    "if(year % 4 == 0):\n",
    "    print(str(year) + \" \" + \"is a leap year!\")\n",
    "else:\n",
    "    print(str(year) + \" \" + \"is not a leap year!\")"
   ]
  },
  {
   "cell_type": "code",
   "execution_count": null,
   "metadata": {},
   "outputs": [],
   "source": [
    "import random\n",
    "def add(x, y):\n",
    "    return (x + y)\n",
    "def subtract(x, y):\n",
    "    return (x - y)\n",
    "def multiple(x, y):\n",
    "    return (x * y)\n",
    "def division(x, y):\n",
    "    return (x/y)\n",
    "print(\"Choose an operation: \")\n",
    "print(\"1. Addition\")\n",
    "print(\"2. Subtraction\")\n",
    "print(\"3. Multiplication\")\n",
    "print(\"4. Division\")\n",
    "while True:\n",
    "    choice = int(input(\"1/2/3/4: \"))\n",
    "    if choice == (1/2/3/4):\n",
    "        num1 = int(input(\"Enter the first number: \"))\n",
    "        num2 = int(input(\"Enter the second number: \"))"
   ]
  },
  {
   "cell_type": "code",
   "execution_count": null,
   "metadata": {},
   "outputs": [
    {
     "name": "stdout",
     "output_type": "stream",
     "text": [
      "Select operation.\n",
      "1.Add\n",
      "2.Subtract\n",
      "3.Multiply\n",
      "4.Divide\n",
      "Enter choice(1/2/3/4): f\n",
      "Enter choice(1/2/3/4): 4\n",
      "Enter first number: 3\n",
      "Enter second number: 2\n",
      "Enter choice(1/2/3/4): 1\n",
      "Enter first number: 10\n",
      "Enter second number: 2\n"
     ]
    }
   ],
   "source": [
    "# Program make a simple calculator\n",
    "\n",
    "# This function adds two numbers\n",
    "def add(x, y):\n",
    "    return x + y\n",
    "\n",
    "# This function subtracts two numbers\n",
    "def subtract(x, y):\n",
    "    return x - y\n",
    "\n",
    "# This function multiplies two numbers\n",
    "def multiply(x, y):\n",
    "    return x * y\n",
    "\n",
    "# This function divides two numbers\n",
    "def divide(x, y):\n",
    "    return x / y\n",
    "\n",
    "\n",
    "print(\"Select operation.\")\n",
    "print(\"1.Add\")\n",
    "print(\"2.Subtract\")\n",
    "print(\"3.Multiply\")\n",
    "print(\"4.Divide\")\n",
    "\n",
    "while True:\n",
    "    # take input from the user\n",
    "    choice = input(\"Enter choice(1/2/3/4): \")\n",
    "\n",
    "    # check if choice is one of the four options\n",
    "    if choice in ('1', '2', '3', '4'):\n",
    "        num1 = float(input(\"Enter first number: \"))\n",
    "        num2 = float(input(\"Enter second number: \"))"
   ]
  },
  {
   "cell_type": "code",
   "execution_count": 7,
   "metadata": {},
   "outputs": [
    {
     "name": "stdout",
     "output_type": "stream",
     "text": [
      "\n",
      "Please type in the math operation you would like to complete:\n",
      "+ for addition\n",
      "- for subtraction\n",
      "* for multiplication\n",
      "/ for division\n",
      "1\n",
      "Enter your first number: 2\n",
      "Enter your second number: 3\n",
      "You have not typed a valid operator, please run the program again.\n"
     ]
    }
   ],
   "source": [
    "a = input('''\n",
    "Please type in the math operation you would like to complete:\n",
    "+ for addition\n",
    "- for subtraction\n",
    "* for multiplication\n",
    "/ for division\n",
    "''')\n",
    "\n",
    "x = int(input('Enter your first number: '))\n",
    "y = int(input('Enter your second number: '))\n",
    "\n",
    "if a == '+':\n",
    "    print('{} + {} = '.format(x, y))\n",
    "    print(x + y)\n",
    "\n",
    "elif a == '-':\n",
    "    print('{} - {} = '.format(x, y))\n",
    "    print(x - y)\n",
    "\n",
    "elif a == '*':\n",
    "    print('{} * {} = '.format(x, y))\n",
    "    print(x * y)\n",
    "\n",
    "elif a == '/':\n",
    "    print('{} / {} = '.format(x, y))\n",
    "    print(x / y)\n",
    "\n",
    "else:\n",
    "    print('You have not typed a valid operator, please run the program again.')"
   ]
  },
  {
   "cell_type": "code",
   "execution_count": 5,
   "metadata": {},
   "outputs": [
    {
     "name": "stdout",
     "output_type": "stream",
     "text": [
      "Enter an operation:\n",
      "1.Addition\n",
      "2.Sutraction\n",
      "3.Multiplication\n",
      "4.Division\n",
      "1\n",
      "Enter the first number: 4\n",
      "Enter the second number: 6\n"
     ]
    }
   ],
   "source": [
    "a = input('''Enter an operation:\n",
    "1.Addition\n",
    "2.Sutraction\n",
    "3.Multiplication\n",
    "4.Division\n",
    "''')\n",
    "x = int(input(\"Enter the first number: \"))\n",
    "y = int(input(\"Enter the second number: \"))\n",
    "if a == \"+\":\n",
    "    print(\"{} + {} = \".format(x, y))\n",
    "    print(x + y)          \n",
    "elif a == \"-\":\n",
    "    print(\"{} - {} = \".format(x, y))\n",
    "    print(x - y)\n",
    "elif a == \"*\":\n",
    "    print(\"{} * {} = \".format(x, y))\n",
    "    print(x * y)\n",
    "elif a == \"/\":\n",
    "    print(\"{} / {} = \".format(x, y))\n",
    "    print(x / y)"
   ]
  },
  {
   "cell_type": "code",
   "execution_count": null,
   "metadata": {},
   "outputs": [],
   "source": []
  }
 ],
 "metadata": {
  "kernelspec": {
   "display_name": "Python 3 (ipykernel)",
   "language": "python",
   "name": "python3"
  },
  "language_info": {
   "codemirror_mode": {
    "name": "ipython",
    "version": 3
   },
   "file_extension": ".py",
   "mimetype": "text/x-python",
   "name": "python",
   "nbconvert_exporter": "python",
   "pygments_lexer": "ipython3",
   "version": "3.9.7"
  }
 },
 "nbformat": 4,
 "nbformat_minor": 2
}
